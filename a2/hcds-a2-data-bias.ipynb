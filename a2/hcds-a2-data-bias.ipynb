{
 "cells": [
  {
   "cell_type": "markdown",
   "metadata": {},
   "source": [
    "# Overview \n",
    "In this notebook we perform following actions. \n",
    "* Download wikipedia data from figshare.\n",
    "* Perform some initial data anaylysis. \n",
    "* Try to answer some questions. \n",
    "\n",
    "The next section of code perfroms some intilization steps."
   ]
  },
  {
   "cell_type": "code",
   "execution_count": 2,
   "metadata": {},
   "outputs": [],
   "source": [
    "import pandas as pd \n",
    "import requests"
   ]
  },
  {
   "cell_type": "markdown",
   "metadata": {},
   "source": [
    "# Download data \n",
    "This section of code will downsload data for [figshare](https://figshare.com/projects/Wikipedia_Talk/16731)  webstie. \n",
    "In this section we download data reated to toxicity and aggression data sets. Each file is a tab separated file. We will define a utility function to  download the url and save files to repository. \n"
   ]
  },
  {
   "cell_type": "code",
   "execution_count": 7,
   "metadata": {},
   "outputs": [],
   "source": [
    "urls_dict = {\n",
    "    'toxicity_annotations':'https://ndownloader.figshare.com/files/7394539',\n",
    "    'toxicity_comments': 'https://ndownloader.figshare.com/files/7394542',\n",
    "    'toxicity_worker': 'https://ndownloader.figshare.com/files/7640581',   \n",
    "    'aggression_annotations': 'https://ndownloader.figshare.com/files/7038038',\n",
    "    'aggression_comments': 'https://ndownloader.figshare.com/files/7394506',\n",
    "    'aggression_worker': 'https://ndownloader.figshare.com/files/7640644'   \n",
    "}\n",
    "\n",
    "def download_data(url, file_name):\n",
    "    resp = requests.get(url)\n",
    "    if resp.ok:\n",
    "        with open(file_name, 'wb') as data_file:\n",
    "            data_file.write(resp.content)\n",
    "    else:\n",
    "        print( \"Couldn't download data from {}, status code {}\".format(url, resp.status))\n",
    "\n",
    "for k,v in urls_dict.items():\n",
    "    download_data(v, '{}.tsv'.format(k))\n"
   ]
  },
  {
   "cell_type": "markdown",
   "metadata": {},
   "source": [
    "# Reading data\n",
    "\n",
    "This section of the code reads the files downloaded and converts to pandas dataframe. We look at summary of data."
   ]
  },
  {
   "cell_type": "code",
   "execution_count": 8,
   "metadata": {},
   "outputs": [
    {
     "name": "stderr",
     "output_type": "stream",
     "text": [
      "C:\\Users\\koona\\Anaconda3\\lib\\site-packages\\numpy\\lib\\arraysetops.py:569: FutureWarning: elementwise comparison failed; returning scalar instead, but in the future will perform elementwise comparison\n",
      "  mask |= (ar1 == a)\n"
     ]
    },
    {
     "name": "stdout",
     "output_type": "stream",
     "text": [
      "toxicity annotations shape (1598289, 3)\n",
      "toxicity comments shape (159686, 7)\n",
      "toxicity worker shape (159686, 7)\n",
      "aggression annotations shape (1598289, 3)\n",
      "aggression comments shape (159686, 7)\n",
      "aggression worker shape (159686, 7)\n"
     ]
    }
   ],
   "source": [
    "toxicity_annotations = pd.read_csv('toxicity_annotations.tsv', sep = '\\t', index_col = 0)\n",
    "print(\"toxicity annotations shape {}\".format(toxicity_annotations.shape))\n",
    "\n",
    "toxicity_comments = pd.read_csv('toxicity_comments.tsv',  sep = '\\t')\n",
    "print(\"toxicity comments shape {}\".format(toxicity_comments.shape))\n",
    "\n",
    "toxicity_worker = pd.read_csv('toxicity_worker.tsv',  sep = '\\t')\n",
    "print(\"toxicity worker shape {}\".format(toxicity_comments.shape))\n",
    "\n",
    "aggression_annotations = pd.read_csv('aggression_annotations.tsv', sep = '\\t', index_col = 0)\n",
    "print(\"aggression annotations shape {}\".format(toxicity_annotations.shape))\n",
    "\n",
    "aggression_comments = pd.read_csv('aggression_comments.tsv',  sep = '\\t')\n",
    "print(\"aggression comments shape {}\".format(toxicity_comments.shape))\n",
    "\n",
    "aggression_worker = pd.read_csv('aggression_worker.tsv',  sep = '\\t')\n",
    "print(\"aggression worker shape {}\".format(toxicity_comments.shape))"
   ]
  },
  {
   "cell_type": "markdown",
   "metadata": {},
   "source": [
    "# Worker data analysis \n",
    "Let us look at the workers that helped classify comments. THis is very important to make sure the workers are representative of the popultion of readers on wikipedia. We have gender , education level, first launguage and age group for demographic data. I want to look at the gende distribution in this case. I found this wikipedia survey result on the demographic of  readers \n",
    "https://en.wikipedia.org/wiki/Wikipedia:Reader#:~:text=Reader%20demographics&text=About%2045%25%20of%20readers%20are,more%20than%20once%20a%20week.\n",
    "\n",
    "According to the survey female readers account for 46% of the total group. Looking at the graph below the workers annotating the comments don't represent the same distribution. "
   ]
  },
  {
   "cell_type": "code",
   "execution_count": 26,
   "metadata": {},
   "outputs": [
    {
     "data": {
      "text/plain": [
       "Text(0.5, 1.0, 'Number of worker by Gender in toxicity dataset')"
      ]
     },
     "execution_count": 26,
     "metadata": {},
     "output_type": "execute_result"
    },
    {
     "data": {
      "image/png": "[encoded data removed]",
      "text/plain": [
       "<Figure size 432x288 with 1 Axes>"
      ]
     },
     "metadata": {
      "needs_background": "light"
     },
     "output_type": "display_data"
    }
   ],
   "source": [
    "#There is one worker who identifeid as other so lets drop that row for now \n",
    "axes  = toxicity_worker[toxicity_worker['gender'] != 'other'].groupby('gender').count().plot.bar()\n",
    "axes.set_title('Number of worker by Gender in toxicity dataset')"
   ]
  },
  {
   "cell_type": "code",
   "execution_count": 27,
   "metadata": {},
   "outputs": [
    {
     "data": {
      "text/plain": [
       "Text(0.5, 1.0, 'Number of worker by Gender in aggression dataset')"
      ]
     },
     "execution_count": 27,
     "metadata": {},
     "output_type": "execute_result"
    },
    {
     "data": {
      "image/png": "[encoded data removed]",
      "text/plain": [
       "<Figure size 432x288 with 1 Axes>"
      ]
     },
     "metadata": {
      "needs_background": "light"
     },
     "output_type": "display_data"
    }
   ],
   "source": [
    "axes  = aggression_worker[aggression_worker['gender'] != 'other'].groupby('gender').count().plot.bar()\n",
    "axes.set_title('Number of worker by Gender in aggression dataset')"
   ]
  },
  {
   "cell_type": "code",
   "execution_count": 20,
   "metadata": {},
   "outputs": [
    {
     "data": {
      "text/html": [
       "<div>\n",
       "<style scoped>\n",
       "    .dataframe tbody tr th:only-of-type {\n",
       "        vertical-align: middle;\n",
       "    }\n",
       "\n",
       "    .dataframe tbody tr th {\n",
       "        vertical-align: top;\n",
       "    }\n",
       "\n",
       "    .dataframe thead th {\n",
       "        text-align: right;\n",
       "    }\n",
       "</style>\n",
       "<table border=\"1\" class=\"dataframe\">\n",
       "  <thead>\n",
       "    <tr style=\"text-align: right;\">\n",
       "      <th></th>\n",
       "      <th>worker_id</th>\n",
       "      <th>english_first_language</th>\n",
       "      <th>age_group</th>\n",
       "      <th>education</th>\n",
       "    </tr>\n",
       "    <tr>\n",
       "      <th>gender</th>\n",
       "      <th></th>\n",
       "      <th></th>\n",
       "      <th></th>\n",
       "      <th></th>\n",
       "    </tr>\n",
       "  </thead>\n",
       "  <tbody>\n",
       "    <tr>\n",
       "      <th>female</th>\n",
       "      <td>1263</td>\n",
       "      <td>1263</td>\n",
       "      <td>1234</td>\n",
       "      <td>1263</td>\n",
       "    </tr>\n",
       "    <tr>\n",
       "      <th>male</th>\n",
       "      <td>2327</td>\n",
       "      <td>2327</td>\n",
       "      <td>2279</td>\n",
       "      <td>2327</td>\n",
       "    </tr>\n",
       "    <tr>\n",
       "      <th>other</th>\n",
       "      <td>1</td>\n",
       "      <td>1</td>\n",
       "      <td>1</td>\n",
       "      <td>1</td>\n",
       "    </tr>\n",
       "  </tbody>\n",
       "</table>\n",
       "</div>"
      ],
      "text/plain": [
       "        worker_id  english_first_language  age_group  education\n",
       "gender                                                         \n",
       "female       1263                    1263       1234       1263\n",
       "male         2327                    2327       2279       2327\n",
       "other           1                       1          1          1"
      ]
     },
     "execution_count": 20,
     "metadata": {},
     "output_type": "execute_result"
    }
   ],
   "source": [
    "toxicity_worker.groupby('gender').count()"
   ]
  },
  {
   "cell_type": "code",
   "execution_count": 21,
   "metadata": {},
   "outputs": [
    {
     "data": {
      "text/html": [
       "<div>\n",
       "<style scoped>\n",
       "    .dataframe tbody tr th:only-of-type {\n",
       "        vertical-align: middle;\n",
       "    }\n",
       "\n",
       "    .dataframe tbody tr th {\n",
       "        vertical-align: top;\n",
       "    }\n",
       "\n",
       "    .dataframe thead th {\n",
       "        text-align: right;\n",
       "    }\n",
       "</style>\n",
       "<table border=\"1\" class=\"dataframe\">\n",
       "  <thead>\n",
       "    <tr style=\"text-align: right;\">\n",
       "      <th></th>\n",
       "      <th>worker_id</th>\n",
       "      <th>english_first_language</th>\n",
       "      <th>age_group</th>\n",
       "      <th>education</th>\n",
       "    </tr>\n",
       "    <tr>\n",
       "      <th>gender</th>\n",
       "      <th></th>\n",
       "      <th></th>\n",
       "      <th></th>\n",
       "      <th></th>\n",
       "    </tr>\n",
       "  </thead>\n",
       "  <tbody>\n",
       "    <tr>\n",
       "      <th>female</th>\n",
       "      <td>840</td>\n",
       "      <td>840</td>\n",
       "      <td>829</td>\n",
       "      <td>840</td>\n",
       "    </tr>\n",
       "    <tr>\n",
       "      <th>male</th>\n",
       "      <td>1349</td>\n",
       "      <td>1349</td>\n",
       "      <td>1325</td>\n",
       "      <td>1349</td>\n",
       "    </tr>\n",
       "    <tr>\n",
       "      <th>other</th>\n",
       "      <td>1</td>\n",
       "      <td>1</td>\n",
       "      <td>1</td>\n",
       "      <td>1</td>\n",
       "    </tr>\n",
       "  </tbody>\n",
       "</table>\n",
       "</div>"
      ],
      "text/plain": [
       "        worker_id  english_first_language  age_group  education\n",
       "gender                                                         \n",
       "female        840                     840        829        840\n",
       "male         1349                    1349       1325       1349\n",
       "other           1                       1          1          1"
      ]
     },
     "execution_count": 21,
     "metadata": {},
     "output_type": "execute_result"
    }
   ],
   "source": [
    "aggression_worker.groupby('gender').count()"
   ]
  },
  {
   "cell_type": "markdown",
   "metadata": {},
   "source": [
    "As Seen from the above data the repesentation of female workers in roughly half of male workers. This could result some skew in the meaning of toxicity. Toxicity might have a different meaning based on the gender worker might belong to. If a model is built on this the training and test sample might have to chagne the distributions of genders to be close the survery results. "
   ]
  },
  {
   "cell_type": "code",
   "execution_count": null,
   "metadata": {},
   "outputs": [],
   "source": []
  }
 ],
 "metadata": {
  "kernelspec": {
   "display_name": "Python 3",
   "language": "python",
   "name": "python3"
  },
  "language_info": {
   "codemirror_mode": {
    "name": "ipython",
    "version": 3
   },
   "file_extension": ".py",
   "mimetype": "text/x-python",
   "name": "python",
   "nbconvert_exporter": "python",
   "pygments_lexer": "ipython3",
   "version": "3.7.3"
  }
 },
 "nbformat": 4,
 "nbformat_minor": 2
}
